{
 "cells": [
  {
   "cell_type": "code",
   "execution_count": 4,
   "id": "617720db",
   "metadata": {
    "_cell_guid": "b1076dfc-b9ad-4769-8c92-a6c4dae69d19",
    "_uuid": "8f2839f25d086af736a60e9eeb907d3b93b6e0e5",
    "execution": {
     "iopub.execute_input": "2024-05-21T21:20:52.908650Z",
     "iopub.status.busy": "2024-05-21T21:20:52.907515Z",
     "iopub.status.idle": "2024-05-21T21:21:02.111348Z",
     "shell.execute_reply": "2024-05-21T21:21:02.110394Z"
    },
    "papermill": {
     "duration": 9.216734,
     "end_time": "2024-05-21T21:21:02.117090",
     "exception": false,
     "start_time": "2024-05-21T21:20:52.900356",
     "status": "completed"
    },
    "scrolled": true,
    "tags": []
   },
   "outputs": [],
   "source": [
    "import numpy as np # linear algebra\n",
    "import pandas as pd # data processing, CSV file I/O (e.g. pd.read_csv)\n",
    "import matplotlib.pyplot as plt\n",
    "%matplotlib inline\n",
    "from PIL import Image, ImageDraw\n",
    "import xml.etree.ElementTree as ET\n",
    "import cv2\n",
    "from torch.utils.data import Dataset\n",
    "from pathlib import Path\n",
    "import os\n",
    "import random\n",
    "import torch\n",
    "from torchvision import transforms\n",
    "from torch.utils.data import Dataset, DataLoader, Subset\n",
    "from torchvision.utils import draw_bounding_boxes\n",
    "import matplotlib.patches as patches\n",
    "import albumentations as A\n",
    "from albumentations.pytorch import ToTensorV2\n",
    "from torchvision.models.detection import FasterRCNN\n",
    "from torchvision.models.detection.faster_rcnn import FastRCNNPredictor\n",
    "import torch.optim as optim\n",
    "from sklearn.model_selection import train_test_split\n",
    "from torch.utils.data import Subset"
   ]
  },
  {
   "cell_type": "code",
   "execution_count": 2,
   "id": "bfa6dbf0",
   "metadata": {
    "execution": {
     "iopub.execute_input": "2024-05-21T21:21:02.130105Z",
     "iopub.status.busy": "2024-05-21T21:21:02.129121Z",
     "iopub.status.idle": "2024-05-21T21:21:02.134373Z",
     "shell.execute_reply": "2024-05-21T21:21:02.133421Z"
    },
    "papermill": {
     "duration": 0.013505,
     "end_time": "2024-05-21T21:21:02.136365",
     "exception": false,
     "start_time": "2024-05-21T21:21:02.122860",
     "status": "completed"
    },
    "tags": []
   },
   "outputs": [],
   "source": [
    "labels_dir = '/kaggle/input/swimming-pool-detection-algarves-landscape/labels/' \n",
    "images_dir = '/kaggle/input/swimming-pool-detection-algarves-landscape/images/'\n",
    "root_dir = '/kaggle/input/swimming-pool-detection-algarves-landscape/'"
   ]
  },
  {
   "cell_type": "code",
   "execution_count": 3,
   "id": "894a3799",
   "metadata": {
    "execution": {
     "iopub.execute_input": "2024-05-21T21:21:02.148424Z",
     "iopub.status.busy": "2024-05-21T21:21:02.147879Z",
     "iopub.status.idle": "2024-05-21T21:21:02.158106Z",
     "shell.execute_reply": "2024-05-21T21:21:02.157179Z"
    },
    "papermill": {
     "duration": 0.018777,
     "end_time": "2024-05-21T21:21:02.160370",
     "exception": false,
     "start_time": "2024-05-21T21:21:02.141593",
     "status": "completed"
    },
    "tags": []
   },
   "outputs": [],
   "source": [
    "train_transforms = A.Compose([\n",
    "    A.Resize(height=128, width=128),\n",
    "    A.RandomCrop(height=128, width=128, p=0.2),\n",
    "    A.HorizontalFlip(p=0.2),\n",
    "    A.RandomBrightnessContrast(p=0.2),\n",
    "    A.Blur(always_apply=False, p=1.0, blur_limit=(3, 7)),\n",
    "    A.HueSaturationValue(always_apply=False, p=1.0, hue_shift_limit=(-20, 20), sat_shift_limit=(-30, 30), val_shift_limit=(-20, 20)),\n",
    "    A.Rotate(limit=30, p=0.2),\n",
    "    A.Normalize(mean=(0.485, 0.456, 0.406), std=(0.229, 0.224, 0.225)),\n",
    "    ToTensorV2()\n",
    "], bbox_params=A.BboxParams(format='pascal_voc', label_fields=['labels']))\n",
    "\n",
    "test_transforms = A.Compose([\n",
    "    A.Resize(height=128, width=128),\n",
    "    A.Normalize(mean=(0.485, 0.456, 0.406), std=(0.229, 0.224, 0.225)),  # Match training normalization\n",
    "    ToTensorV2()\n",
    "], bbox_params=A.BboxParams(format='pascal_voc', label_fields=['labels']))"
   ]
  },
  {
   "cell_type": "code",
   "execution_count": 4,
   "id": "f19b211c",
   "metadata": {
    "execution": {
     "iopub.execute_input": "2024-05-21T21:21:02.173002Z",
     "iopub.status.busy": "2024-05-21T21:21:02.172417Z",
     "iopub.status.idle": "2024-05-21T21:21:02.181168Z",
     "shell.execute_reply": "2024-05-21T21:21:02.180188Z"
    },
    "papermill": {
     "duration": 0.017284,
     "end_time": "2024-05-21T21:21:02.183250",
     "exception": false,
     "start_time": "2024-05-21T21:21:02.165966",
     "status": "completed"
    },
    "tags": []
   },
   "outputs": [],
   "source": [
    "def show_transformed_image(dataset, idx):\n",
    "    \"\"\"\n",
    "    Display a transformed image from the dataset along with its bounding boxes.\n",
    "\n",
    "    Args:\n",
    "        dataset (pool_sat_Dataset): The dataset object.\n",
    "        idx (int): The index of the image to display.\n",
    "\n",
    "    Returns:\n",
    "        None\n",
    "    \"\"\"\n",
    "    image, target = dataset[idx]\n",
    "    image = image.permute(1, 2, 0)  # Convert from CxHxW to HxWxC\n",
    "    image = image.numpy()\n",
    "    fig, ax = plt.subplots(1)\n",
    "    ax.imshow(image)\n",
    "    print(target)\n",
    "    for bbox in target['boxes']:\n",
    "        rect = patches.Rectangle((bbox[0], bbox[1]), bbox[2]-bbox[0], bbox[3]-bbox[1], linewidth=1, edgecolor='r', facecolor='none')\n",
    "        ax.add_patch(rect)\n",
    "    plt.show()\n"
   ]
  },
  {
   "cell_type": "code",
   "execution_count": 5,
   "id": "b671ddc5",
   "metadata": {
    "execution": {
     "iopub.execute_input": "2024-05-21T21:21:02.195826Z",
     "iopub.status.busy": "2024-05-21T21:21:02.195488Z",
     "iopub.status.idle": "2024-05-21T21:21:02.203990Z",
     "shell.execute_reply": "2024-05-21T21:21:02.203050Z"
    },
    "papermill": {
     "duration": 0.017459,
     "end_time": "2024-05-21T21:21:02.206293",
     "exception": false,
     "start_time": "2024-05-21T21:21:02.188834",
     "status": "completed"
    },
    "tags": []
   },
   "outputs": [],
   "source": [
    "def parse_xml(xml_file):\n",
    "    tree = ET.parse(xml_file)\n",
    "    root = tree.getroot()\n",
    "    image_data = {\n",
    "        \"filename\": root.find('filename').text,\n",
    "        \"width\": int(root.find('size/width').text),\n",
    "        \"height\": int(root.find('size/height').text),\n",
    "        \"depth\": int(root.find('size/depth').text),\n",
    "        \"xmin\": [],\n",
    "        \"ymin\": [],\n",
    "        \"xmax\": [],\n",
    "        \"ymax\": []\n",
    "    }\n",
    "\n",
    "    for obj in root.findall('object'):\n",
    "        image_data[\"xmin\"].append(int(obj.find('bndbox/xmin').text))\n",
    "        image_data[\"ymin\"].append(int(obj.find('bndbox/ymin').text))\n",
    "        image_data[\"xmax\"].append(int(obj.find('bndbox/xmax').text))\n",
    "        image_data[\"ymax\"].append(int(obj.find('bndbox/ymax').text))\n",
    "    \n",
    "    return image_data\n"
   ]
  },
  {
   "cell_type": "code",
   "execution_count": 6,
   "id": "b03fd4ea",
   "metadata": {
    "execution": {
     "iopub.execute_input": "2024-05-21T21:21:02.219056Z",
     "iopub.status.busy": "2024-05-21T21:21:02.218761Z",
     "iopub.status.idle": "2024-05-21T21:21:02.698210Z",
     "shell.execute_reply": "2024-05-21T21:21:02.697118Z"
    },
    "papermill": {
     "duration": 0.488698,
     "end_time": "2024-05-21T21:21:02.700845",
     "exception": false,
     "start_time": "2024-05-21T21:21:02.212147",
     "status": "completed"
    },
    "tags": []
   },
   "outputs": [
    {
     "name": "stdout",
     "output_type": "stream",
     "text": [
      "  filename  width  height  depth                    xmin  \\\n",
      "0  128.PNG    227     185      3  [17, 73, 98, 137, 163]   \n",
      "1  147.PNG    218     242      3               [30, 125]   \n",
      "2  142.PNG    309     167      3                   [132]   \n",
      "3  127.PNG    227     186      3                    [61]   \n",
      "4  164.PNG    194     199      3                    [53]   \n",
      "5   84.PNG    115     208      3                    [48]   \n",
      "6  169.PNG    252     236      3                   [191]   \n",
      "7  166.PNG    237     148      3                    [45]   \n",
      "8  120.PNG    257     141      3              [112, 175]   \n",
      "9  109.PNG    303     165      3                    [83]   \n",
      "\n",
      "                     ymin                      xmax                     ymax  \n",
      "0  [21, 63, 90, 120, 144]  [49, 104, 129, 170, 196]  [55, 89, 113, 141, 168]  \n",
      "1               [62, 200]                 [68, 164]                [99, 223]  \n",
      "2                   [116]                     [168]                    [156]  \n",
      "3                    [82]                      [72]                    [120]  \n",
      "4                   [158]                      [86]                    [172]  \n",
      "5                   [137]                      [82]                    [175]  \n",
      "6                   [194]                     [228]                    [213]  \n",
      "7                    [41]                      [71]                     [61]  \n",
      "8                [19, 19]                [136, 207]                 [42, 42]  \n",
      "9                    [73]                     [117]                    [108]  \n"
     ]
    }
   ],
   "source": [
    "# Path to the labels directory\n",
    "all_images = []\n",
    "\n",
    "# Read each XML file and extract data\n",
    "for label_file in os.listdir(labels_dir):\n",
    "    if label_file.endswith('.xml'):\n",
    "        xml_path = os.path.join(labels_dir, label_file)\n",
    "        image_data = parse_xml(xml_path)\n",
    "        all_images.append(image_data)\n",
    "\n",
    "# Create DataFrame\n",
    "df = pd.DataFrame(all_images)\n",
    "\n",
    "# Print sample data to verify the structure\n",
    "print(df.head(10))\n"
   ]
  },
  {
   "cell_type": "code",
   "execution_count": 7,
   "id": "496c4163",
   "metadata": {
    "execution": {
     "iopub.execute_input": "2024-05-21T21:21:02.714738Z",
     "iopub.status.busy": "2024-05-21T21:21:02.714130Z",
     "iopub.status.idle": "2024-05-21T21:21:02.727686Z",
     "shell.execute_reply": "2024-05-21T21:21:02.726557Z"
    },
    "papermill": {
     "duration": 0.022952,
     "end_time": "2024-05-21T21:21:02.729981",
     "exception": false,
     "start_time": "2024-05-21T21:21:02.707029",
     "status": "completed"
    },
    "tags": []
   },
   "outputs": [],
   "source": [
    "# Split the DataFrame into training and testing datasets\n",
    "train_df, test_df = train_test_split(df, test_size=0.2, random_state=42)"
   ]
  },
  {
   "cell_type": "code",
   "execution_count": 8,
   "id": "afba115d",
   "metadata": {
    "execution": {
     "iopub.execute_input": "2024-05-21T21:21:02.743365Z",
     "iopub.status.busy": "2024-05-21T21:21:02.743051Z",
     "iopub.status.idle": "2024-05-21T21:21:02.756592Z",
     "shell.execute_reply": "2024-05-21T21:21:02.755652Z"
    },
    "papermill": {
     "duration": 0.022632,
     "end_time": "2024-05-21T21:21:02.758787",
     "exception": false,
     "start_time": "2024-05-21T21:21:02.736155",
     "status": "completed"
    },
    "tags": []
   },
   "outputs": [],
   "source": [
    "from torchvision.transforms.functional import to_tensor\n",
    "\n",
    "class PoolDataset(Dataset):\n",
    "    def __init__(self, dataframe, root_dir, transform=None):\n",
    "        self.dataframe = dataframe\n",
    "        self.root_dir = root_dir\n",
    "        self.transform = transform \n",
    "\n",
    "    def __len__(self):\n",
    "        return len(self.dataframe)\n",
    "\n",
    "    def __getitem__(self, idx):\n",
    "        # Image loading\n",
    "        img_path = os.path.join(self.root_dir + '/images/', self.dataframe.iloc[idx]['filename'])\n",
    "        image = Image.open(img_path).convert(\"RGB\") \n",
    "        image = np.array(image)\n",
    "\n",
    "        # Bounding boxes\n",
    "        xmin = self.dataframe.iloc[idx]['xmin']\n",
    "        ymin = self.dataframe.iloc[idx]['ymin']\n",
    "        xmax = self.dataframe.iloc[idx]['xmax']\n",
    "        ymax = self.dataframe.iloc[idx]['ymax']\n",
    "        boxes = torch.as_tensor([list(b) for b in zip(xmin, ymin, xmax, ymax)], dtype=torch.float32)\n",
    "        labels = [1] * len(boxes)\n",
    "        \n",
    "        # Labels (as long as all boxes are pools, labels are 1; background is 0 and implicit)\n",
    "        target = {'boxes': boxes, 'labels': labels}\n",
    "\n",
    "        if self.transform:\n",
    "            transformed = self.transform(image=image, bboxes=target['boxes'], labels=target['labels'])\n",
    "            image = transformed['image']\n",
    "            target['boxes'] = transformed['bboxes']\n",
    "            target['labels'] = transformed['labels']\n",
    "\n",
    "        # Convert to tensors (moving this part out of if to ensure it always executes)\n",
    "        target['boxes'] = torch.as_tensor(target['boxes'], dtype=torch.float32)\n",
    "        target['labels'] = torch.as_tensor(target['labels'], dtype=torch.int64)\n",
    "\n",
    "        return image, target"
   ]
  },
  {
   "cell_type": "code",
   "execution_count": 9,
   "id": "95e0de73",
   "metadata": {
    "execution": {
     "iopub.execute_input": "2024-05-21T21:21:02.772573Z",
     "iopub.status.busy": "2024-05-21T21:21:02.772257Z",
     "iopub.status.idle": "2024-05-21T21:21:02.777447Z",
     "shell.execute_reply": "2024-05-21T21:21:02.776439Z"
    },
    "papermill": {
     "duration": 0.014702,
     "end_time": "2024-05-21T21:21:02.779815",
     "exception": false,
     "start_time": "2024-05-21T21:21:02.765113",
     "status": "completed"
    },
    "tags": []
   },
   "outputs": [],
   "source": [
    "def collate_fn(batch):\n",
    "    images = [item[0] for item in batch]\n",
    "    targets = [item[1] for item in batch]\n",
    "    return images, targets"
   ]
  },
  {
   "cell_type": "code",
   "execution_count": 10,
   "id": "fdeb0841",
   "metadata": {
    "execution": {
     "iopub.execute_input": "2024-05-21T21:21:02.793639Z",
     "iopub.status.busy": "2024-05-21T21:21:02.793291Z",
     "iopub.status.idle": "2024-05-21T21:21:02.799368Z",
     "shell.execute_reply": "2024-05-21T21:21:02.798374Z"
    },
    "papermill": {
     "duration": 0.0156,
     "end_time": "2024-05-21T21:21:02.801638",
     "exception": false,
     "start_time": "2024-05-21T21:21:02.786038",
     "status": "completed"
    },
    "tags": []
   },
   "outputs": [],
   "source": [
    "# Initialize dataset\n",
    "train_dataset = PoolDataset(train_df, root_dir, train_transforms)\n",
    "test_dataset = PoolDataset(test_df, root_dir, test_transforms)\n",
    "\n",
    "# DataLoader\n",
    "train_loader = DataLoader(train_dataset, batch_size=8, shuffle=True, collate_fn=collate_fn)\n",
    "test_loader = DataLoader(test_dataset, batch_size=8, shuffle=False, collate_fn=collate_fn)"
   ]
  },
  {
   "cell_type": "code",
   "execution_count": 11,
   "id": "40323e45",
   "metadata": {
    "execution": {
     "iopub.execute_input": "2024-05-21T21:21:02.816001Z",
     "iopub.status.busy": "2024-05-21T21:21:02.815205Z",
     "iopub.status.idle": "2024-05-21T21:21:02.834480Z",
     "shell.execute_reply": "2024-05-21T21:21:02.833622Z"
    },
    "papermill": {
     "duration": 0.028752,
     "end_time": "2024-05-21T21:21:02.836680",
     "exception": false,
     "start_time": "2024-05-21T21:21:02.807928",
     "status": "completed"
    },
    "tags": []
   },
   "outputs": [],
   "source": [
    "import torchvision.ops as ops\n",
    "\n",
    "def calculate_iou(boxA, boxB):\n",
    "    \"\"\"\n",
    "    Calculate the intersection over union (IoU) of two bounding boxes.\n",
    "\n",
    "    Args:\n",
    "        boxA: The first bounding box.\n",
    "        boxB: The second bounding box.\n",
    "\n",
    "    Returns:\n",
    "        The IoU of the two bounding boxes.\n",
    "    \"\"\"\n",
    "    \n",
    "    # Determine the coordinates of the intersection rectangle\n",
    "    xA = max(boxA[0], boxB[0])\n",
    "    yA = max(boxA[1], boxB[1])\n",
    "    xB = min(boxA[2], boxB[2])\n",
    "    yB = min(boxA[3], boxB[3])\n",
    "\n",
    "    # Compute the area of intersection rectangle\n",
    "    interWidth = max(0, xB - xA)\n",
    "    interHeight = max(0, yB - yA)\n",
    "    interArea = interWidth * interHeight\n",
    "    \n",
    "    if interArea == 0:\n",
    "        return 0.0  # No overlap\n",
    "\n",
    "    # Compute the area of both bounding boxes\n",
    "    boxAArea = (boxA[2] - boxA[0]) * (boxA[3] - boxA[1])\n",
    "    boxBArea = (boxB[2] - boxB[0]) * (boxB[3] - boxB[1])\n",
    "\n",
    "    # Compute the intersection over union\n",
    "    iou = interArea / float(boxAArea + boxBArea - interArea)\n",
    "    return iou\n",
    "\n",
    "\n",
    "def soft_nms(boxes, scores, iou_threshold=0.5, score_threshold=0.001, sigma=0.5):\n",
    "    \"\"\"\n",
    "    Apply Soft Non-Maximum Suppression to the predictions.\n",
    "    \n",
    "    Args:\n",
    "        boxes (Tensor): The bounding boxes.\n",
    "        scores (Tensor): The confidence scores for each box.\n",
    "        iou_threshold (float): The IoU threshold for NMS. Defaults to 0.5.\n",
    "        score_threshold (float): The score threshold to discard low confidence boxes. Defaults to 0.001.\n",
    "        sigma (float): The sigma parameter for Soft-NMS. Defaults to 0.5.\n",
    "        \n",
    "    Returns:\n",
    "        Tensor: The indices of the boxes to keep.\n",
    "    \"\"\"\n",
    "    if boxes.numel() == 0:\n",
    "        return torch.tensor([], dtype=torch.int64)\n",
    "    \n",
    "    # Convert boxes to the format (x1, y1, x2, y2)\n",
    "    x1 = boxes[:, 0]\n",
    "    y1 = boxes[:, 1]\n",
    "    x2 = boxes[:, 2]\n",
    "    y2 = boxes[:, 3]\n",
    "\n",
    "    # Calculate areas of the boxes\n",
    "    areas = (x2 - x1) * (y2 - y1)\n",
    "    \n",
    "    # Order by scores (descending)\n",
    "    order = scores.argsort(descending=True)\n",
    "\n",
    "    # List to keep track of which indices to keep\n",
    "    keep = []\n",
    "\n",
    "    while order.numel() > 0:\n",
    "        i = order[0].item()\n",
    "        keep.append(i)\n",
    "\n",
    "        if order.numel() == 1:\n",
    "            break\n",
    "        \n",
    "        # Get the IoU of the highest score box with the rest\n",
    "        xx1 = torch.max(x1[i], x1[order[1:]])\n",
    "        yy1 = torch.max(y1[i], y1[order[1:]])\n",
    "        xx2 = torch.min(x2[i], x2[order[1:]])\n",
    "        yy2 = torch.min(y2[i], y2[order[1:]])\n",
    "        \n",
    "        w = (xx2 - xx1).clamp(min=0)\n",
    "        h = (yy2 - yy1).clamp(min=0)\n",
    "        inter = w * h\n",
    "        ovr = inter / (areas[i] + areas[order[1:]] - inter)\n",
    "\n",
    "        # Apply Soft-NMS score adjustment\n",
    "        weight = torch.exp(-(ovr ** 2) / sigma)\n",
    "        scores[order[1:]] = scores[order[1:]] * weight\n",
    "        \n",
    "        # Filter out boxes with scores below threshold\n",
    "        keep_indices = (scores[order[1:]] >= score_threshold).nonzero(as_tuple=False).squeeze()\n",
    "        \n",
    "        if keep_indices.numel() == 0:\n",
    "            break\n",
    "        \n",
    "        # Update the order tensor to process remaining boxes\n",
    "        if keep_indices.dim() == 0:  # Ensure keep_indices is a 1-D tensor\n",
    "            order = order[keep_indices + 1].unsqueeze(0)\n",
    "        else:\n",
    "            order = order[keep_indices + 1]\n",
    "        \n",
    "\n",
    "    return torch.tensor(keep, dtype=torch.int64)"
   ]
  },
  {
   "cell_type": "code",
   "execution_count": 12,
   "id": "ad2472a1",
   "metadata": {
    "execution": {
     "iopub.execute_input": "2024-05-21T21:21:02.851223Z",
     "iopub.status.busy": "2024-05-21T21:21:02.850276Z",
     "iopub.status.idle": "2024-05-21T21:21:05.519315Z",
     "shell.execute_reply": "2024-05-21T21:21:05.518437Z"
    },
    "papermill": {
     "duration": 2.679016,
     "end_time": "2024-05-21T21:21:05.522067",
     "exception": false,
     "start_time": "2024-05-21T21:21:02.843051",
     "status": "completed"
    },
    "tags": []
   },
   "outputs": [
    {
     "name": "stderr",
     "output_type": "stream",
     "text": [
      "Downloading: \"https://download.pytorch.org/models/fasterrcnn_resnet50_fpn_coco-258fb6c6.pth\" to /root/.cache/torch/hub/checkpoints/fasterrcnn_resnet50_fpn_coco-258fb6c6.pth\n",
      "100%|██████████| 160M/160M [00:01<00:00, 135MB/s]\n"
     ]
    }
   ],
   "source": [
    "from torchvision.models.detection import fasterrcnn_resnet50_fpn\n",
    "from torchvision.models.detection import FasterRCNN_ResNet50_FPN_Weights\n",
    "from torch.optim.lr_scheduler import StepLR\n",
    "\n",
    "model = fasterrcnn_resnet50_fpn(weights=FasterRCNN_ResNet50_FPN_Weights.DEFAULT,  progress=True)\n",
    "num_classes = 2  # 1 class + background\n",
    "in_features = model.roi_heads.box_predictor.cls_score.in_features\n",
    "model.roi_heads.box_predictor = FastRCNNPredictor(in_features, num_classes)\n",
    "\n",
    "device = torch.device(\"cuda\" if torch.cuda.is_available() else \"cpu\")\n",
    "model.to(device)\n",
    "num_epochs = 20\n",
    "\n",
    "params = [p for p in model.parameters() if p.requires_grad]\n",
    "optimizer = optim.Adam(params, lr=0.0001)\n",
    "lr_scheduler = StepLR(optimizer, step_size=10, gamma=0.1)"
   ]
  },
  {
   "cell_type": "code",
   "execution_count": 13,
   "id": "be45991c",
   "metadata": {
    "execution": {
     "iopub.execute_input": "2024-05-21T21:21:05.539829Z",
     "iopub.status.busy": "2024-05-21T21:21:05.539097Z",
     "iopub.status.idle": "2024-05-21T21:25:57.731357Z",
     "shell.execute_reply": "2024-05-21T21:25:57.730289Z"
    },
    "papermill": {
     "duration": 292.212259,
     "end_time": "2024-05-21T21:25:57.742357",
     "exception": false,
     "start_time": "2024-05-21T21:21:05.530098",
     "status": "completed"
    },
    "tags": []
   },
   "outputs": [
    {
     "name": "stdout",
     "output_type": "stream",
     "text": [
      "Epoch 1 Loss: 0.4282333701848984\n",
      "Epoch 2 Loss: 0.22734787066777548\n",
      "Epoch 3 Loss: 0.24258429557085037\n",
      "Epoch 4 Loss: 0.21602092434962591\n",
      "Epoch 5 Loss: 0.2262085278828939\n",
      "Epoch 6 Loss: 0.19853821438219812\n",
      "Epoch 7 Loss: 0.1974192675617006\n",
      "Epoch 8 Loss: 0.18320903016461265\n",
      "Epoch 9 Loss: 0.18360204208228323\n",
      "Epoch 10 Loss: 0.17840876430273056\n",
      "Epoch 11 Loss: 0.16084089544084337\n",
      "Epoch 12 Loss: 0.1577259757452541\n",
      "Epoch 13 Loss: 0.1479153132273091\n",
      "Epoch 14 Loss: 0.16414061271482044\n",
      "Epoch 15 Loss: 0.15665188473131922\n",
      "Epoch 16 Loss: 0.1455475464463234\n",
      "Epoch 17 Loss: 0.15185099840164185\n",
      "Epoch 18 Loss: 0.15688980163799393\n",
      "Epoch 19 Loss: 0.1434469065732426\n",
      "Epoch 20 Loss: 0.12947073640922704\n"
     ]
    }
   ],
   "source": [
    "train_losses = []\n",
    "\n",
    "for epoch in range(num_epochs):\n",
    "    model.train()\n",
    "    running_loss = 0.0\n",
    "    for images, targets in train_loader:\n",
    "        images = list(image.to(device) for image in images)\n",
    "        targets = [{k: v.to(device) for k, v in t.items()} for t in targets]\n",
    "\n",
    "        # Forward pass: compute the loss\n",
    "        loss_dict = model(images, targets)\n",
    "        losses = sum(loss for loss in loss_dict.values())\n",
    "\n",
    "        # Backward pass: compute gradient and do SGD step\n",
    "        optimizer.zero_grad()\n",
    "        losses.backward()\n",
    "        optimizer.step()\n",
    "        \n",
    "        train_losses.append(losses.item())\n",
    "        \n",
    "        running_loss += losses.item()\n",
    "    \n",
    "    # Update the learning rate\n",
    "    lr_scheduler.step()\n",
    "    \n",
    "    # Print average loss for the epoch\n",
    "    print(f\"Epoch {epoch+1} Loss: {running_loss / len(train_loader)}\")"
   ]
  },
  {
   "cell_type": "code",
   "execution_count": 14,
   "id": "0f0f743b",
   "metadata": {
    "execution": {
     "iopub.execute_input": "2024-05-21T21:25:57.763586Z",
     "iopub.status.busy": "2024-05-21T21:25:57.762856Z",
     "iopub.status.idle": "2024-05-21T21:25:58.097612Z",
     "shell.execute_reply": "2024-05-21T21:25:58.096677Z"
    },
    "papermill": {
     "duration": 0.348458,
     "end_time": "2024-05-21T21:25:58.100426",
     "exception": false,
     "start_time": "2024-05-21T21:25:57.751968",
     "status": "completed"
    },
    "tags": []
   },
   "outputs": [
    {
     "data": {
      "image/png": "[encoded data removed]",
      "text/plain": [
       "<Figure size 640x480 with 1 Axes>"
      ]
     },
     "metadata": {},
     "output_type": "display_data"
    }
   ],
   "source": [
    "# Plot the training loss\n",
    "plt.plot(train_losses)\n",
    "plt.xlabel('Iteration')\n",
    "plt.ylabel('Training Loss')\n",
    "plt.title('Training Loss Over Time')\n",
    "plt.show()"
   ]
  },
  {
   "cell_type": "code",
   "execution_count": 15,
   "id": "54c4a146",
   "metadata": {
    "execution": {
     "iopub.execute_input": "2024-05-21T21:25:58.124427Z",
     "iopub.status.busy": "2024-05-21T21:25:58.123568Z",
     "iopub.status.idle": "2024-05-21T21:25:58.427495Z",
     "shell.execute_reply": "2024-05-21T21:25:58.426385Z"
    },
    "papermill": {
     "duration": 0.318858,
     "end_time": "2024-05-21T21:25:58.430170",
     "exception": false,
     "start_time": "2024-05-21T21:25:58.111312",
     "status": "completed"
    },
    "tags": []
   },
   "outputs": [],
   "source": [
    "torch.save(model.state_dict(), 'model_weights.pth')"
   ]
  }
 ],
 "metadata": {
  "kaggle": {
   "accelerator": "gpu",
   "dataSources": [
    {
     "datasetId": 1247557,
     "sourceId": 2088783,
     "sourceType": "datasetVersion"
    }
   ],
   "dockerImageVersionId": 30698,
   "isGpuEnabled": true,
   "isInternetEnabled": true,
   "language": "python",
   "sourceType": "notebook"
  },
  "kernelspec": {
   "display_name": "Python 3",
   "language": "python",
   "name": "python3"
  },
  "language_info": {
   "codemirror_mode": {
    "name": "ipython",
    "version": 3
   },
   "file_extension": ".py",
   "mimetype": "text/x-python",
   "name": "python",
   "nbconvert_exporter": "python",
   "pygments_lexer": "ipython3",
   "version": "3.12.4"
  },
  "papermill": {
   "default_parameters": {},
   "duration": 311.476977,
   "end_time": "2024-05-21T21:26:01.264360",
   "environment_variables": {},
   "exception": null,
   "input_path": "__notebook__.ipynb",
   "output_path": "__notebook__.ipynb",
   "parameters": {},
   "start_time": "2024-05-21T21:20:49.787383",
   "version": "2.5.0"
  }
 },
 "nbformat": 4,
 "nbformat_minor": 5
}
